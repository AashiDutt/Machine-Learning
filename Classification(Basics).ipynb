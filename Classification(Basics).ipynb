{
 "cells": [
  {
   "cell_type": "markdown",
   "metadata": {},
   "source": [
    "# In this notebook we will cover : project based on whether a person visits a website and whether he / she buys a product or not.\n",
    "\n",
    "* Hypothesis for classification\n",
    "* logistic Regression\n",
    "* Cost for classification\n",
    "* Accuracy"
   ]
  },
  {
   "cell_type": "markdown",
   "metadata": {},
   "source": [
    "# Cost function in logistic function is not of covex shape so, we use sigmoid function and cost function is given as:\n",
    "\n",
    "# ci = - (1-yi) log(1-yi_hat) - yi log(yi_hat)"
   ]
  },
  {
   "cell_type": "markdown",
   "metadata": {},
   "source": [
    "# OR \n",
    "\n",
    "**ci = -log(1-yi_hat)      for yi =0**\n",
    "\n",
    "**ci = - log(yi_hat)       for yi =1** \n",
    "\n",
    "\n",
    "where ** y_hat ** is described as\n",
    "  \n",
    "  # y_hat = f(b + X * w)"
   ]
  },
  {
   "cell_type": "code",
   "execution_count": 39,
   "metadata": {},
   "outputs": [],
   "source": [
    "# Importing Dependencies"
   ]
  },
  {
   "cell_type": "code",
   "execution_count": 40,
   "metadata": {},
   "outputs": [],
   "source": [
    "import numpy as np\n",
    "import pandas as pd\n",
    "import matplotlib.pyplot as plt\n",
    "%matplotlib inline"
   ]
  },
  {
   "cell_type": "code",
   "execution_count": 41,
   "metadata": {},
   "outputs": [],
   "source": [
    "df = pd.read_csv('user_visit_duration.csv')"
   ]
  },
  {
   "cell_type": "code",
   "execution_count": 42,
   "metadata": {},
   "outputs": [],
   "source": [
    "# Exploring Data"
   ]
  },
  {
   "cell_type": "code",
   "execution_count": 43,
   "metadata": {},
   "outputs": [
    {
     "data": {
      "text/html": [
       "<div>\n",
       "<style scoped>\n",
       "    .dataframe tbody tr th:only-of-type {\n",
       "        vertical-align: middle;\n",
       "    }\n",
       "\n",
       "    .dataframe tbody tr th {\n",
       "        vertical-align: top;\n",
       "    }\n",
       "\n",
       "    .dataframe thead th {\n",
       "        text-align: right;\n",
       "    }\n",
       "</style>\n",
       "<table border=\"1\" class=\"dataframe\">\n",
       "  <thead>\n",
       "    <tr style=\"text-align: right;\">\n",
       "      <th></th>\n",
       "      <th>Time (min)</th>\n",
       "      <th>Buy</th>\n",
       "    </tr>\n",
       "  </thead>\n",
       "  <tbody>\n",
       "    <tr>\n",
       "      <th>0</th>\n",
       "      <td>2.000000</td>\n",
       "      <td>0</td>\n",
       "    </tr>\n",
       "    <tr>\n",
       "      <th>1</th>\n",
       "      <td>0.683333</td>\n",
       "      <td>0</td>\n",
       "    </tr>\n",
       "    <tr>\n",
       "      <th>2</th>\n",
       "      <td>3.216667</td>\n",
       "      <td>1</td>\n",
       "    </tr>\n",
       "    <tr>\n",
       "      <th>3</th>\n",
       "      <td>0.900000</td>\n",
       "      <td>0</td>\n",
       "    </tr>\n",
       "    <tr>\n",
       "      <th>4</th>\n",
       "      <td>1.533333</td>\n",
       "      <td>1</td>\n",
       "    </tr>\n",
       "  </tbody>\n",
       "</table>\n",
       "</div>"
      ],
      "text/plain": [
       "   Time (min)  Buy\n",
       "0    2.000000    0\n",
       "1    0.683333    0\n",
       "2    3.216667    1\n",
       "3    0.900000    0\n",
       "4    1.533333    1"
      ]
     },
     "execution_count": 43,
     "metadata": {},
     "output_type": "execute_result"
    }
   ],
   "source": [
    "df.head()"
   ]
  },
  {
   "cell_type": "code",
   "execution_count": 44,
   "metadata": {},
   "outputs": [
    {
     "name": "stdout",
     "output_type": "stream",
     "text": [
      "<class 'pandas.core.frame.DataFrame'>\n",
      "RangeIndex: 100 entries, 0 to 99\n",
      "Data columns (total 2 columns):\n",
      "Time (min)    100 non-null float64\n",
      "Buy           100 non-null int64\n",
      "dtypes: float64(1), int64(1)\n",
      "memory usage: 1.6 KB\n"
     ]
    }
   ],
   "source": [
    "df.info()"
   ]
  },
  {
   "cell_type": "code",
   "execution_count": 45,
   "metadata": {},
   "outputs": [
    {
     "data": {
      "text/html": [
       "<div>\n",
       "<style scoped>\n",
       "    .dataframe tbody tr th:only-of-type {\n",
       "        vertical-align: middle;\n",
       "    }\n",
       "\n",
       "    .dataframe tbody tr th {\n",
       "        vertical-align: top;\n",
       "    }\n",
       "\n",
       "    .dataframe thead th {\n",
       "        text-align: right;\n",
       "    }\n",
       "</style>\n",
       "<table border=\"1\" class=\"dataframe\">\n",
       "  <thead>\n",
       "    <tr style=\"text-align: right;\">\n",
       "      <th></th>\n",
       "      <th>Time (min)</th>\n",
       "      <th>Buy</th>\n",
       "    </tr>\n",
       "  </thead>\n",
       "  <tbody>\n",
       "    <tr>\n",
       "      <th>count</th>\n",
       "      <td>100.000000</td>\n",
       "      <td>100.000000</td>\n",
       "    </tr>\n",
       "    <tr>\n",
       "      <th>mean</th>\n",
       "      <td>1.849000</td>\n",
       "      <td>0.500000</td>\n",
       "    </tr>\n",
       "    <tr>\n",
       "      <th>std</th>\n",
       "      <td>1.073868</td>\n",
       "      <td>0.502519</td>\n",
       "    </tr>\n",
       "    <tr>\n",
       "      <th>min</th>\n",
       "      <td>0.000000</td>\n",
       "      <td>0.000000</td>\n",
       "    </tr>\n",
       "    <tr>\n",
       "      <th>25%</th>\n",
       "      <td>1.066667</td>\n",
       "      <td>0.000000</td>\n",
       "    </tr>\n",
       "    <tr>\n",
       "      <th>50%</th>\n",
       "      <td>1.858333</td>\n",
       "      <td>0.500000</td>\n",
       "    </tr>\n",
       "    <tr>\n",
       "      <th>75%</th>\n",
       "      <td>2.687500</td>\n",
       "      <td>1.000000</td>\n",
       "    </tr>\n",
       "    <tr>\n",
       "      <th>max</th>\n",
       "      <td>4.150000</td>\n",
       "      <td>1.000000</td>\n",
       "    </tr>\n",
       "  </tbody>\n",
       "</table>\n",
       "</div>"
      ],
      "text/plain": [
       "       Time (min)         Buy\n",
       "count  100.000000  100.000000\n",
       "mean     1.849000    0.500000\n",
       "std      1.073868    0.502519\n",
       "min      0.000000    0.000000\n",
       "25%      1.066667    0.000000\n",
       "50%      1.858333    0.500000\n",
       "75%      2.687500    1.000000\n",
       "max      4.150000    1.000000"
      ]
     },
     "execution_count": 45,
     "metadata": {},
     "output_type": "execute_result"
    }
   ],
   "source": [
    "df.describe()"
   ]
  },
  {
   "cell_type": "code",
   "execution_count": 46,
   "metadata": {},
   "outputs": [
    {
     "data": {
      "text/plain": [
       "<matplotlib.axes._subplots.AxesSubplot at 0x1ea0f56cba8>"
      ]
     },
     "execution_count": 46,
     "metadata": {},
     "output_type": "execute_result"
    },
    {
     "data": {
      "image/png": "[encoded data removed]",
      "text/plain": [
       "<matplotlib.figure.Figure at 0x1ea0f56c4a8>"
      ]
     },
     "metadata": {},
     "output_type": "display_data"
    }
   ],
   "source": [
    "# VISUALIZING DATA\n",
    "\n",
    "df.plot(kind = 'scatter', x = 'Time (min)',y = 'Buy' , title ='Time vs Buy plot')"
   ]
  },
  {
   "cell_type": "code",
   "execution_count": 47,
   "metadata": {},
   "outputs": [],
   "source": [
    "from keras.models import Sequential  # sequential because we will be adding elements to this model in a sequence. \n",
    "from keras.layers import Dense       \n",
    "from keras.optimizers import Adam, SGD # helps to change the values of w and b to get to the minimum cost."
   ]
  },
  {
   "cell_type": "code",
   "execution_count": 48,
   "metadata": {},
   "outputs": [],
   "source": [
    "model = Sequential()"
   ]
  },
  {
   "cell_type": "code",
   "execution_count": 49,
   "metadata": {},
   "outputs": [],
   "source": [
    "model.add(Dense(1, input_shape=(1,), activation = 'sigmoid'))"
   ]
  },
  {
   "cell_type": "code",
   "execution_count": 50,
   "metadata": {},
   "outputs": [],
   "source": [
    "model.compile(SGD(lr = 0.5), 'binary_crossentropy', metrics =['accuracy'])\n",
    "\n",
    "# here, loss(cost_function) is binary_crossentropy"
   ]
  },
  {
   "cell_type": "code",
   "execution_count": 51,
   "metadata": {},
   "outputs": [
    {
     "name": "stdout",
     "output_type": "stream",
     "text": [
      "_________________________________________________________________\n",
      "Layer (type)                 Output Shape              Param #   \n",
      "=================================================================\n",
      "dense_5 (Dense)              (None, 1)                 2         \n",
      "=================================================================\n",
      "Total params: 2\n",
      "Trainable params: 2\n",
      "Non-trainable params: 0\n",
      "_________________________________________________________________\n"
     ]
    }
   ],
   "source": [
    "model.summary()"
   ]
  },
  {
   "cell_type": "code",
   "execution_count": 52,
   "metadata": {},
   "outputs": [],
   "source": [
    "X = df[['Time (min)']].values"
   ]
  },
  {
   "cell_type": "code",
   "execution_count": 53,
   "metadata": {},
   "outputs": [],
   "source": [
    "y = df[['Buy']].values"
   ]
  },
  {
   "cell_type": "code",
   "execution_count": 54,
   "metadata": {},
   "outputs": [
    {
     "name": "stdout",
     "output_type": "stream",
     "text": [
      "Epoch 1/25\n",
      "100/100 [==============================] - 0s 3ms/step - loss: 0.6498 - acc: 0.5600\n",
      "Epoch 2/25\n",
      "100/100 [==============================] - 0s 252us/step - loss: 0.6201 - acc: 0.5900\n",
      "Epoch 3/25\n",
      "100/100 [==============================] - 0s 155us/step - loss: 0.5538 - acc: 0.8000\n",
      "Epoch 4/25\n",
      "100/100 [==============================] - 0s 130us/step - loss: 0.5354 - acc: 0.7500\n",
      "Epoch 5/25\n",
      "100/100 [==============================] - 0s 222us/step - loss: 0.5219 - acc: 0.7600\n",
      "Epoch 6/25\n",
      "100/100 [==============================] - 0s 172us/step - loss: 0.4987 - acc: 0.7700\n",
      "Epoch 7/25\n",
      "100/100 [==============================] - 0s 137us/step - loss: 0.4864 - acc: 0.7700\n",
      "Epoch 8/25\n",
      "100/100 [==============================] - 0s 170us/step - loss: 0.4679 - acc: 0.8300\n",
      "Epoch 9/25\n",
      "100/100 [==============================] - 0s 167us/step - loss: 0.4604 - acc: 0.8200\n",
      "Epoch 10/25\n",
      "100/100 [==============================] - 0s 190us/step - loss: 0.4720 - acc: 0.8300\n",
      "Epoch 11/25\n",
      "100/100 [==============================] - 0s 170us/step - loss: 0.4515 - acc: 0.7700\n",
      "Epoch 12/25\n",
      "100/100 [==============================] - 0s 199us/step - loss: 0.4418 - acc: 0.8100\n",
      "Epoch 13/25\n",
      "100/100 [==============================] - 0s 190us/step - loss: 0.4339 - acc: 0.8000\n",
      "Epoch 14/25\n",
      "100/100 [==============================] - 0s 170us/step - loss: 0.4351 - acc: 0.8000\n",
      "Epoch 15/25\n",
      "100/100 [==============================] - 0s 70us/step - loss: 0.4297 - acc: 0.8300\n",
      "Epoch 16/25\n",
      "100/100 [==============================] - 0s 60us/step - loss: 0.4337 - acc: 0.7900\n",
      "Epoch 17/25\n",
      "100/100 [==============================] - 0s 100us/step - loss: 0.4197 - acc: 0.8200\n",
      "Epoch 18/25\n",
      "100/100 [==============================] - 0s 90us/step - loss: 0.4339 - acc: 0.8100\n",
      "Epoch 19/25\n",
      "100/100 [==============================] - 0s 60us/step - loss: 0.4158 - acc: 0.8100\n",
      "Epoch 20/25\n",
      "100/100 [==============================] - 0s 90us/step - loss: 0.4083 - acc: 0.8400\n",
      "Epoch 21/25\n",
      "100/100 [==============================] - 0s 140us/step - loss: 0.4172 - acc: 0.8200\n",
      "Epoch 22/25\n",
      "100/100 [==============================] - 0s 80us/step - loss: 0.4028 - acc: 0.8300\n",
      "Epoch 23/25\n",
      "100/100 [==============================] - 0s 90us/step - loss: 0.4107 - acc: 0.8400\n",
      "Epoch 24/25\n",
      "100/100 [==============================] - 0s 120us/step - loss: 0.4047 - acc: 0.8100\n",
      "Epoch 25/25\n",
      "100/100 [==============================] - 0s 90us/step - loss: 0.4040 - acc: 0.8200\n"
     ]
    },
    {
     "data": {
      "text/plain": [
       "<keras.callbacks.History at 0x1ea0f45ae80>"
      ]
     },
     "execution_count": 54,
     "metadata": {},
     "output_type": "execute_result"
    }
   ],
   "source": [
    "model.fit(X, y ,epochs = 25)  # applying iterations\n",
    "\n",
    "# we see that loss is going down while accuracy is going up"
   ]
  },
  {
   "cell_type": "code",
   "execution_count": 55,
   "metadata": {},
   "outputs": [
    {
     "data": {
      "image/png": "[encoded data removed]",
      "text/plain": [
       "<matplotlib.figure.Figure at 0x1ea0f76ddd8>"
      ]
     },
     "metadata": {},
     "output_type": "display_data"
    }
   ],
   "source": [
    "ax = df.plot(kind = 'scatter', x ='Time (min)',y = 'Buy',title = 'purchase behavior vs time spent on site')"
   ]
  },
  {
   "cell_type": "code",
   "execution_count": 56,
   "metadata": {},
   "outputs": [
    {
     "data": {
      "text/plain": [
       "<matplotlib.legend.Legend at 0x1ea0f7743c8>"
      ]
     },
     "execution_count": 56,
     "metadata": {},
     "output_type": "execute_result"
    },
    {
     "data": {
      "image/png": "[encoded data removed]",
      "text/plain": [
       "<matplotlib.figure.Figure at 0x1ea0f7a3240>"
      ]
     },
     "metadata": {},
     "output_type": "display_data"
    }
   ],
   "source": [
    "ax = df.plot(kind = 'scatter', x ='Time (min)',y = 'Buy',title = 'purchase behavior vs time spent on site')\n",
    "\n",
    "temp = np.linspace(0,4)\n",
    "ax.plot(temp, model.predict(temp), color = 'orange')\n",
    "plt.legend(['model','data'])"
   ]
  },
  {
   "cell_type": "code",
   "execution_count": 57,
   "metadata": {},
   "outputs": [],
   "source": [
    "# predicting classes i.e class 0 or class 1\n",
    "\n",
    "temp_class =model.predict(temp) > 0.5"
   ]
  },
  {
   "cell_type": "code",
   "execution_count": 58,
   "metadata": {},
   "outputs": [
    {
     "data": {
      "text/plain": [
       "<matplotlib.legend.Legend at 0x1ea0f7f55f8>"
      ]
     },
     "execution_count": 58,
     "metadata": {},
     "output_type": "execute_result"
    },
    {
     "data": {
      "image/png": "[encoded data removed]",
      "text/plain": [
       "<matplotlib.figure.Figure at 0x1ea0f7c3320>"
      ]
     },
     "metadata": {},
     "output_type": "display_data"
    }
   ],
   "source": [
    "ax = df.plot(kind = 'scatter', x ='Time (min)',y = 'Buy',title = 'purchase behavior vs time spent on site')\n",
    "\n",
    "temp = np.linspace(0,4)\n",
    "ax.plot(temp,temp_class, color = 'orange')\n",
    "plt.legend(['model','data'])"
   ]
  },
  {
   "cell_type": "code",
   "execution_count": 59,
   "metadata": {},
   "outputs": [],
   "source": [
    "# checking accuracy of model\n",
    "\n",
    "y_pred = model.predict(X)\n",
    "y_class_pred = y_pred >0.5\n"
   ]
  },
  {
   "cell_type": "code",
   "execution_count": 60,
   "metadata": {},
   "outputs": [],
   "source": [
    "from sklearn.metrics import accuracy_score"
   ]
  },
  {
   "cell_type": "code",
   "execution_count": 61,
   "metadata": {},
   "outputs": [
    {
     "name": "stdout",
     "output_type": "stream",
     "text": [
      "The accuracy score is 0.820\n"
     ]
    }
   ],
   "source": [
    "print(\"The accuracy score is {:0.3f}\".format(accuracy_score(y, y_class_pred)))"
   ]
  },
  {
   "cell_type": "markdown",
   "metadata": {},
   "source": [
    "# Train/Test split"
   ]
  },
  {
   "cell_type": "code",
   "execution_count": 62,
   "metadata": {},
   "outputs": [],
   "source": [
    "from sklearn.model_selection import train_test_split\n",
    "\n",
    "X_train, X_test, y_train, y_test = train_test_split(X, y, test_size=0.2)"
   ]
  },
  {
   "cell_type": "code",
   "execution_count": 63,
   "metadata": {},
   "outputs": [],
   "source": [
    "# Resetting Weights\n",
    "\n",
    "params = model.get_weights()\n",
    "params = [np.zeros(w.shape) for w in params]\n",
    "model.set_weights(params)"
   ]
  },
  {
   "cell_type": "code",
   "execution_count": 64,
   "metadata": {},
   "outputs": [
    {
     "name": "stdout",
     "output_type": "stream",
     "text": [
      "The accuracy score is 0.500\n"
     ]
    }
   ],
   "source": [
    "print(\"The accuracy score is {:0.3f}\".format(accuracy_score(y, model.predict(X) > 0.5)))"
   ]
  },
  {
   "cell_type": "code",
   "execution_count": 65,
   "metadata": {},
   "outputs": [
    {
     "data": {
      "text/plain": [
       "<keras.callbacks.History at 0x1ea0f201e48>"
      ]
     },
     "execution_count": 65,
     "metadata": {},
     "output_type": "execute_result"
    }
   ],
   "source": [
    "model.fit(X_train, y_train, epochs=25, verbose=0)"
   ]
  },
  {
   "cell_type": "code",
   "execution_count": 66,
   "metadata": {},
   "outputs": [
    {
     "name": "stdout",
     "output_type": "stream",
     "text": [
      "The train accuracy score is 0.812\n",
      "The test accuracy score is 0.850\n"
     ]
    }
   ],
   "source": [
    "print(\"The train accuracy score is {:0.3f}\".format(accuracy_score(y_train, model.predict(X_train) > 0.5)))\n",
    "print(\"The test accuracy score is {:0.3f}\".format(accuracy_score(y_test, model.predict(X_test) > 0.5)))"
   ]
  },
  {
   "cell_type": "markdown",
   "metadata": {},
   "source": [
    "# CROSS_VALIDATION"
   ]
  },
  {
   "cell_type": "code",
   "execution_count": 67,
   "metadata": {},
   "outputs": [],
   "source": [
    "from keras.wrappers.scikit_learn import KerasClassifier\n",
    "\n",
    "# wrappers allows us to use keras model in scikit learn"
   ]
  },
  {
   "cell_type": "code",
   "execution_count": 68,
   "metadata": {},
   "outputs": [],
   "source": [
    "# Creating a model\n",
    "\n",
    "def build_logistic_regression_model():\n",
    "    model = Sequential()\n",
    "    model.add(Dense(1, input_shape =(1,),activation ='sigmoid'))\n",
    "    model.compile(SGD(lr = 0.5),'binary_crossentropy',metrics=['accuracy'])\n",
    "    return model"
   ]
  },
  {
   "cell_type": "code",
   "execution_count": 75,
   "metadata": {},
   "outputs": [],
   "source": [
    "model = KerasClassifier(build_fn = build_logistic_regression_model,epochs = 25,verbose =0)\n",
    "\n",
    "# wrapper needs a build function to work"
   ]
  },
  {
   "cell_type": "code",
   "execution_count": 70,
   "metadata": {},
   "outputs": [],
   "source": [
    "from sklearn.model_selection import cross_val_score,KFold"
   ]
  },
  {
   "cell_type": "code",
   "execution_count": 71,
   "metadata": {},
   "outputs": [],
   "source": [
    "# cross_validation\n",
    "# dividing data in 3 equal subsets\n",
    "cv = KFold(3, shuffle=True)"
   ]
  },
  {
   "cell_type": "code",
   "execution_count": 72,
   "metadata": {},
   "outputs": [
    {
     "name": "stdout",
     "output_type": "stream",
     "text": [
      "Epoch 1/25\n",
      "66/66 [==============================] - 0s 5ms/step - loss: 0.7095 - acc: 0.6061\n",
      "Epoch 2/25\n",
      "66/66 [==============================] - 0s 91us/step - loss: 0.6292 - acc: 0.6061\n",
      "Epoch 3/25\n",
      "66/66 [==============================] - 0s 91us/step - loss: 0.5714 - acc: 0.7576\n",
      "Epoch 4/25\n",
      "66/66 [==============================] - 0s 151us/step - loss: 0.5208 - acc: 0.7576\n",
      "Epoch 5/25\n",
      "66/66 [==============================] - 0s 106us/step - loss: 0.5155 - acc: 0.8030\n",
      "Epoch 6/25\n",
      "66/66 [==============================] - 0s 136us/step - loss: 0.5043 - acc: 0.8030\n",
      "Epoch 7/25\n",
      "66/66 [==============================] - 0s 151us/step - loss: 0.4922 - acc: 0.8182\n",
      "Epoch 8/25\n",
      "66/66 [==============================] - 0s 136us/step - loss: 0.4773 - acc: 0.8182\n",
      "Epoch 9/25\n",
      "66/66 [==============================] - 0s 106us/step - loss: 0.5102 - acc: 0.7424\n",
      "Epoch 10/25\n",
      "66/66 [==============================] - 0s 136us/step - loss: 0.4649 - acc: 0.8030\n",
      "Epoch 11/25\n",
      "66/66 [==============================] - 0s 166us/step - loss: 0.4646 - acc: 0.8333\n",
      "Epoch 12/25\n",
      "66/66 [==============================] - 0s 106us/step - loss: 0.4650 - acc: 0.8182\n",
      "Epoch 13/25\n",
      "66/66 [==============================] - 0s 121us/step - loss: 0.4783 - acc: 0.8030\n",
      "Epoch 14/25\n",
      "66/66 [==============================] - 0s 136us/step - loss: 0.6180 - acc: 0.6515\n",
      "Epoch 15/25\n",
      "66/66 [==============================] - 0s 91us/step - loss: 0.5056 - acc: 0.7576\n",
      "Epoch 16/25\n",
      "66/66 [==============================] - 0s 106us/step - loss: 0.4509 - acc: 0.7879\n",
      "Epoch 17/25\n",
      "66/66 [==============================] - 0s 151us/step - loss: 0.4843 - acc: 0.7727\n",
      "Epoch 18/25\n",
      "66/66 [==============================] - 0s 106us/step - loss: 0.4474 - acc: 0.8182\n",
      "Epoch 19/25\n",
      "66/66 [==============================] - 0s 91us/step - loss: 0.5934 - acc: 0.6212\n",
      "Epoch 20/25\n",
      "66/66 [==============================] - 0s 121us/step - loss: 0.4519 - acc: 0.8182\n",
      "Epoch 21/25\n",
      "66/66 [==============================] - 0s 151us/step - loss: 0.4447 - acc: 0.8030\n",
      "Epoch 22/25\n",
      "66/66 [==============================] - 0s 121us/step - loss: 0.4569 - acc: 0.8333\n",
      "Epoch 23/25\n",
      "66/66 [==============================] - 0s 166us/step - loss: 0.4476 - acc: 0.8030\n",
      "Epoch 24/25\n",
      "66/66 [==============================] - 0s 151us/step - loss: 0.4342 - acc: 0.8182\n",
      "Epoch 25/25\n",
      "66/66 [==============================] - 0s 106us/step - loss: 0.4300 - acc: 0.8030\n",
      "34/34 [==============================] - 0s 2ms/step\n",
      "Epoch 1/25\n",
      "67/67 [==============================] - 0s 3ms/step - loss: 1.6136 - acc: 0.4627\n",
      "Epoch 2/25\n",
      "67/67 [==============================] - 0s 89us/step - loss: 0.7403 - acc: 0.3134\n",
      "Epoch 3/25\n",
      "67/67 [==============================] - 0s 104us/step - loss: 0.7892 - acc: 0.4925\n",
      "Epoch 4/25\n",
      "67/67 [==============================] - 0s 104us/step - loss: 0.6316 - acc: 0.6866\n",
      "Epoch 5/25\n",
      "67/67 [==============================] - 0s 104us/step - loss: 0.5978 - acc: 0.8806\n",
      "Epoch 6/25\n",
      "67/67 [==============================] - 0s 104us/step - loss: 0.5622 - acc: 0.6418\n",
      "Epoch 7/25\n",
      "67/67 [==============================] - 0s 89us/step - loss: 0.5448 - acc: 0.7910\n",
      "Epoch 8/25\n",
      "67/67 [==============================] - 0s 89us/step - loss: 0.5188 - acc: 0.8060\n",
      "Epoch 9/25\n",
      "67/67 [==============================] - 0s 89us/step - loss: 0.5118 - acc: 0.7463\n",
      "Epoch 10/25\n",
      "67/67 [==============================] - 0s 224us/step - loss: 0.5501 - acc: 0.7313\n",
      "Epoch 11/25\n",
      "67/67 [==============================] - 0s 119us/step - loss: 0.4905 - acc: 0.8358\n",
      "Epoch 12/25\n",
      "67/67 [==============================] - 0s 89us/step - loss: 0.4617 - acc: 0.8060\n",
      "Epoch 13/25\n",
      "67/67 [==============================] - 0s 89us/step - loss: 0.4494 - acc: 0.8358\n",
      "Epoch 14/25\n",
      "67/67 [==============================] - 0s 104us/step - loss: 0.4372 - acc: 0.8507\n",
      "Epoch 15/25\n",
      "67/67 [==============================] - 0s 104us/step - loss: 0.4400 - acc: 0.8060\n",
      "Epoch 16/25\n",
      "67/67 [==============================] - 0s 134us/step - loss: 0.4173 - acc: 0.8507\n",
      "Epoch 17/25\n",
      "67/67 [==============================] - 0s 134us/step - loss: 0.4352 - acc: 0.7761\n",
      "Epoch 18/25\n",
      "67/67 [==============================] - 0s 119us/step - loss: 0.4059 - acc: 0.8507\n",
      "Epoch 19/25\n",
      "67/67 [==============================] - 0s 75us/step - loss: 0.4040 - acc: 0.8060\n",
      "Epoch 20/25\n",
      "67/67 [==============================] - 0s 89us/step - loss: 0.4011 - acc: 0.8657\n",
      "Epoch 21/25\n",
      "67/67 [==============================] - 0s 89us/step - loss: 0.4026 - acc: 0.8806\n",
      "Epoch 22/25\n",
      "67/67 [==============================] - 0s 89us/step - loss: 0.4139 - acc: 0.8358\n",
      "Epoch 23/25\n",
      "67/67 [==============================] - 0s 74us/step - loss: 0.4441 - acc: 0.7910\n",
      "Epoch 24/25\n",
      "67/67 [==============================] - 0s 89us/step - loss: 0.4013 - acc: 0.8209\n",
      "Epoch 25/25\n",
      "67/67 [==============================] - 0s 164us/step - loss: 0.3950 - acc: 0.8209\n",
      "33/33 [==============================] - 0s 5ms/step\n",
      "Epoch 1/25\n",
      "67/67 [==============================] - 0s 3ms/step - loss: 0.6416 - acc: 0.5672\n",
      "Epoch 2/25\n",
      "67/67 [==============================] - 0s 89us/step - loss: 0.6006 - acc: 0.5821\n",
      "Epoch 3/25\n",
      "67/67 [==============================] - 0s 89us/step - loss: 0.5796 - acc: 0.7612\n",
      "Epoch 4/25\n",
      "67/67 [==============================] - 0s 104us/step - loss: 0.5534 - acc: 0.7910\n",
      "Epoch 5/25\n",
      "67/67 [==============================] - 0s 104us/step - loss: 0.5419 - acc: 0.7612\n",
      "Epoch 6/25\n",
      "67/67 [==============================] - 0s 134us/step - loss: 0.5259 - acc: 0.7910\n",
      "Epoch 7/25\n",
      "67/67 [==============================] - 0s 104us/step - loss: 0.5292 - acc: 0.7463\n",
      "Epoch 8/25\n",
      "67/67 [==============================] - 0s 104us/step - loss: 0.5286 - acc: 0.7463\n",
      "Epoch 9/25\n",
      "67/67 [==============================] - 0s 89us/step - loss: 0.5078 - acc: 0.7910\n",
      "Epoch 10/25\n",
      "67/67 [==============================] - 0s 89us/step - loss: 0.4889 - acc: 0.7910\n",
      "Epoch 11/25\n",
      "67/67 [==============================] - 0s 74us/step - loss: 0.4817 - acc: 0.8060\n",
      "Epoch 12/25\n",
      "67/67 [==============================] - 0s 74us/step - loss: 0.4964 - acc: 0.8209\n",
      "Epoch 13/25\n",
      "67/67 [==============================] - 0s 104us/step - loss: 0.4697 - acc: 0.7910\n",
      "Epoch 14/25\n",
      "67/67 [==============================] - 0s 89us/step - loss: 0.4604 - acc: 0.8060\n",
      "Epoch 15/25\n",
      "67/67 [==============================] - 0s 89us/step - loss: 0.4653 - acc: 0.7612\n",
      "Epoch 16/25\n",
      "67/67 [==============================] - 0s 149us/step - loss: 0.4492 - acc: 0.8209\n",
      "Epoch 17/25\n",
      "67/67 [==============================] - 0s 119us/step - loss: 0.4504 - acc: 0.8060\n",
      "Epoch 18/25\n",
      "67/67 [==============================] - 0s 89us/step - loss: 0.4484 - acc: 0.8060\n",
      "Epoch 19/25\n",
      "67/67 [==============================] - 0s 89us/step - loss: 0.4491 - acc: 0.8060\n",
      "Epoch 20/25\n",
      "67/67 [==============================] - 0s 89us/step - loss: 0.4426 - acc: 0.8060\n",
      "Epoch 21/25\n",
      "67/67 [==============================] - 0s 104us/step - loss: 0.4536 - acc: 0.8060\n",
      "Epoch 22/25\n",
      "67/67 [==============================] - 0s 149us/step - loss: 0.4435 - acc: 0.8358\n",
      "Epoch 23/25\n",
      "67/67 [==============================] - 0s 164us/step - loss: 0.4300 - acc: 0.8060\n",
      "Epoch 24/25\n",
      "67/67 [==============================] - 0s 104us/step - loss: 0.4282 - acc: 0.7910\n",
      "Epoch 25/25\n",
      "67/67 [==============================] - 0s 119us/step - loss: 0.4294 - acc: 0.7910\n",
      "33/33 [==============================] - 0s 3ms/step\n"
     ]
    }
   ],
   "source": [
    "scores = cross_val_score(model, X, y, cv=cv)"
   ]
  },
  {
   "cell_type": "code",
   "execution_count": 73,
   "metadata": {},
   "outputs": [
    {
     "data": {
      "text/plain": [
       "array([0.73529412, 0.81818182, 0.84848485])"
      ]
     },
     "execution_count": 73,
     "metadata": {},
     "output_type": "execute_result"
    }
   ],
   "source": [
    "scores # checking values for 3 subsets"
   ]
  },
  {
   "cell_type": "code",
   "execution_count": 74,
   "metadata": {},
   "outputs": [
    {
     "name": "stdout",
     "output_type": "stream",
     "text": [
      "The cross validation accuracy is 0.8007 ± 0.0478\n"
     ]
    }
   ],
   "source": [
    "print(\"The cross validation accuracy is {:0.4f} ± {:0.4f}\".format(scores.mean(), scores.std()))"
   ]
  },
  {
   "cell_type": "markdown",
   "metadata": {},
   "source": [
    "# Confusion Matrix"
   ]
  },
  {
   "cell_type": "code",
   "execution_count": 76,
   "metadata": {},
   "outputs": [],
   "source": [
    "#Importing Confusion Matrix\\\n",
    "\n",
    "from sklearn.metrics import confusion_matrix\n"
   ]
  },
  {
   "cell_type": "code",
   "execution_count": 77,
   "metadata": {},
   "outputs": [
    {
     "data": {
      "text/plain": [
       "array([[46,  4],\n",
       "       [14, 36]], dtype=int64)"
      ]
     },
     "execution_count": 77,
     "metadata": {},
     "output_type": "execute_result"
    }
   ],
   "source": [
    "confusion_matrix(y,y_class_pred)\n",
    "\n",
    "# it gives 46 true negatives and 36 true positives"
   ]
  },
  {
   "cell_type": "code",
   "execution_count": 89,
   "metadata": {},
   "outputs": [],
   "source": [
    "# Helper function to pretify the Confusion Matrix\n",
    "\n",
    "def pretty_confusion_matrix(y_true, y_pred, labels=[\"False\", \"True\"]):\n",
    "    cm = confusion_matrix(y_true, y_pred)\n",
    "    pred_labels = ['Predicted '+ l for l in labels]\n",
    "    df = pd.DataFrame(cm, index=labels, columns=pred_labels)\n",
    "    return df"
   ]
  },
  {
   "cell_type": "code",
   "execution_count": 90,
   "metadata": {},
   "outputs": [
    {
     "data": {
      "text/html": [
       "<div>\n",
       "<style scoped>\n",
       "    .dataframe tbody tr th:only-of-type {\n",
       "        vertical-align: middle;\n",
       "    }\n",
       "\n",
       "    .dataframe tbody tr th {\n",
       "        vertical-align: top;\n",
       "    }\n",
       "\n",
       "    .dataframe thead th {\n",
       "        text-align: right;\n",
       "    }\n",
       "</style>\n",
       "<table border=\"1\" class=\"dataframe\">\n",
       "  <thead>\n",
       "    <tr style=\"text-align: right;\">\n",
       "      <th></th>\n",
       "      <th>Predicted Not Buy</th>\n",
       "      <th>Predicted Buy</th>\n",
       "    </tr>\n",
       "  </thead>\n",
       "  <tbody>\n",
       "    <tr>\n",
       "      <th>Not Buy</th>\n",
       "      <td>46</td>\n",
       "      <td>4</td>\n",
       "    </tr>\n",
       "    <tr>\n",
       "      <th>Buy</th>\n",
       "      <td>14</td>\n",
       "      <td>36</td>\n",
       "    </tr>\n",
       "  </tbody>\n",
       "</table>\n",
       "</div>"
      ],
      "text/plain": [
       "         Predicted Not Buy  Predicted Buy\n",
       "Not Buy                 46              4\n",
       "Buy                     14             36"
      ]
     },
     "execution_count": 90,
     "metadata": {},
     "output_type": "execute_result"
    }
   ],
   "source": [
    "pretty_confusion_matrix(y, y_class_pred, ['Not Buy', 'Buy'])"
   ]
  },
  {
   "cell_type": "code",
   "execution_count": 91,
   "metadata": {},
   "outputs": [],
   "source": [
    "# Predicting F1 score, Recall and Precision\n",
    "\n",
    "from sklearn.metrics import precision_score, recall_score, f1_score\n"
   ]
  },
  {
   "cell_type": "code",
   "execution_count": 92,
   "metadata": {},
   "outputs": [
    {
     "name": "stdout",
     "output_type": "stream",
     "text": [
      "Precision:\t0.900\n",
      "Recall:  \t0.720\n",
      "F1 Score:\t0.800\n"
     ]
    }
   ],
   "source": [
    "print(\"Precision:\\t{:0.3f}\".format(precision_score(y, y_class_pred)))\n",
    "print(\"Recall:  \\t{:0.3f}\".format(recall_score(y, y_class_pred)))\n",
    "print(\"F1 Score:\\t{:0.3f}\".format(f1_score(y, y_class_pred)))"
   ]
  },
  {
   "cell_type": "code",
   "execution_count": 93,
   "metadata": {},
   "outputs": [],
   "source": [
    "from sklearn.metrics import classification_report"
   ]
  },
  {
   "cell_type": "code",
   "execution_count": 94,
   "metadata": {},
   "outputs": [
    {
     "name": "stdout",
     "output_type": "stream",
     "text": [
      "             precision    recall  f1-score   support\n",
      "\n",
      "          0       0.77      0.92      0.84        50\n",
      "          1       0.90      0.72      0.80        50\n",
      "\n",
      "avg / total       0.83      0.82      0.82       100\n",
      "\n"
     ]
    }
   ],
   "source": [
    "print(classification_report(y, y_class_pred))"
   ]
  },
  {
   "cell_type": "markdown",
   "metadata": {},
   "source": [
    "# Feature Preprocessing\n",
    "\n",
    "# Categorical Features"
   ]
  },
  {
   "cell_type": "code",
   "execution_count": 99,
   "metadata": {},
   "outputs": [],
   "source": [
    "df = pd.read_csv('weight-height.csv')"
   ]
  },
  {
   "cell_type": "code",
   "execution_count": 96,
   "metadata": {},
   "outputs": [
    {
     "data": {
      "text/html": [
       "<div>\n",
       "<style scoped>\n",
       "    .dataframe tbody tr th:only-of-type {\n",
       "        vertical-align: middle;\n",
       "    }\n",
       "\n",
       "    .dataframe tbody tr th {\n",
       "        vertical-align: top;\n",
       "    }\n",
       "\n",
       "    .dataframe thead th {\n",
       "        text-align: right;\n",
       "    }\n",
       "</style>\n",
       "<table border=\"1\" class=\"dataframe\">\n",
       "  <thead>\n",
       "    <tr style=\"text-align: right;\">\n",
       "      <th></th>\n",
       "      <th>Gender</th>\n",
       "      <th>Height</th>\n",
       "      <th>Weight</th>\n",
       "    </tr>\n",
       "  </thead>\n",
       "  <tbody>\n",
       "    <tr>\n",
       "      <th>0</th>\n",
       "      <td>Male</td>\n",
       "      <td>73.847017</td>\n",
       "      <td>241.893563</td>\n",
       "    </tr>\n",
       "    <tr>\n",
       "      <th>1</th>\n",
       "      <td>Male</td>\n",
       "      <td>68.781904</td>\n",
       "      <td>162.310473</td>\n",
       "    </tr>\n",
       "    <tr>\n",
       "      <th>2</th>\n",
       "      <td>Male</td>\n",
       "      <td>74.110105</td>\n",
       "      <td>212.740856</td>\n",
       "    </tr>\n",
       "    <tr>\n",
       "      <th>3</th>\n",
       "      <td>Male</td>\n",
       "      <td>71.730978</td>\n",
       "      <td>220.042470</td>\n",
       "    </tr>\n",
       "    <tr>\n",
       "      <th>4</th>\n",
       "      <td>Male</td>\n",
       "      <td>69.881796</td>\n",
       "      <td>206.349801</td>\n",
       "    </tr>\n",
       "  </tbody>\n",
       "</table>\n",
       "</div>"
      ],
      "text/plain": [
       "  Gender     Height      Weight\n",
       "0   Male  73.847017  241.893563\n",
       "1   Male  68.781904  162.310473\n",
       "2   Male  74.110105  212.740856\n",
       "3   Male  71.730978  220.042470\n",
       "4   Male  69.881796  206.349801"
      ]
     },
     "execution_count": 96,
     "metadata": {},
     "output_type": "execute_result"
    }
   ],
   "source": [
    "df.head()"
   ]
  },
  {
   "cell_type": "code",
   "execution_count": 97,
   "metadata": {},
   "outputs": [
    {
     "name": "stdout",
     "output_type": "stream",
     "text": [
      "<class 'pandas.core.frame.DataFrame'>\n",
      "RangeIndex: 10000 entries, 0 to 9999\n",
      "Data columns (total 3 columns):\n",
      "Gender    10000 non-null object\n",
      "Height    10000 non-null float64\n",
      "Weight    10000 non-null float64\n",
      "dtypes: float64(2), object(1)\n",
      "memory usage: 234.5+ KB\n"
     ]
    }
   ],
   "source": [
    "df.info()"
   ]
  },
  {
   "cell_type": "code",
   "execution_count": 102,
   "metadata": {},
   "outputs": [
    {
     "data": {
      "text/html": [
       "<div>\n",
       "<style scoped>\n",
       "    .dataframe tbody tr th:only-of-type {\n",
       "        vertical-align: middle;\n",
       "    }\n",
       "\n",
       "    .dataframe tbody tr th {\n",
       "        vertical-align: top;\n",
       "    }\n",
       "\n",
       "    .dataframe thead th {\n",
       "        text-align: right;\n",
       "    }\n",
       "</style>\n",
       "<table border=\"1\" class=\"dataframe\">\n",
       "  <thead>\n",
       "    <tr style=\"text-align: right;\">\n",
       "      <th></th>\n",
       "      <th>Height</th>\n",
       "      <th>Weight</th>\n",
       "    </tr>\n",
       "  </thead>\n",
       "  <tbody>\n",
       "    <tr>\n",
       "      <th>count</th>\n",
       "      <td>10000.000000</td>\n",
       "      <td>10000.000000</td>\n",
       "    </tr>\n",
       "    <tr>\n",
       "      <th>mean</th>\n",
       "      <td>66.367560</td>\n",
       "      <td>161.440357</td>\n",
       "    </tr>\n",
       "    <tr>\n",
       "      <th>std</th>\n",
       "      <td>3.847528</td>\n",
       "      <td>32.108439</td>\n",
       "    </tr>\n",
       "    <tr>\n",
       "      <th>min</th>\n",
       "      <td>54.263133</td>\n",
       "      <td>64.700127</td>\n",
       "    </tr>\n",
       "    <tr>\n",
       "      <th>25%</th>\n",
       "      <td>63.505620</td>\n",
       "      <td>135.818051</td>\n",
       "    </tr>\n",
       "    <tr>\n",
       "      <th>50%</th>\n",
       "      <td>66.318070</td>\n",
       "      <td>161.212928</td>\n",
       "    </tr>\n",
       "    <tr>\n",
       "      <th>75%</th>\n",
       "      <td>69.174262</td>\n",
       "      <td>187.169525</td>\n",
       "    </tr>\n",
       "    <tr>\n",
       "      <th>max</th>\n",
       "      <td>78.998742</td>\n",
       "      <td>269.989699</td>\n",
       "    </tr>\n",
       "  </tbody>\n",
       "</table>\n",
       "</div>"
      ],
      "text/plain": [
       "             Height        Weight\n",
       "count  10000.000000  10000.000000\n",
       "mean      66.367560    161.440357\n",
       "std        3.847528     32.108439\n",
       "min       54.263133     64.700127\n",
       "25%       63.505620    135.818051\n",
       "50%       66.318070    161.212928\n",
       "75%       69.174262    187.169525\n",
       "max       78.998742    269.989699"
      ]
     },
     "execution_count": 102,
     "metadata": {},
     "output_type": "execute_result"
    }
   ],
   "source": [
    "df.describe()"
   ]
  },
  {
   "cell_type": "code",
   "execution_count": 103,
   "metadata": {},
   "outputs": [
    {
     "data": {
      "text/plain": [
       "array(['Male', 'Female'], dtype=object)"
      ]
     },
     "execution_count": 103,
     "metadata": {},
     "output_type": "execute_result"
    }
   ],
   "source": [
    "df['Gender'].unique()"
   ]
  },
  {
   "cell_type": "code",
   "execution_count": 101,
   "metadata": {},
   "outputs": [
    {
     "data": {
      "text/html": [
       "<div>\n",
       "<style scoped>\n",
       "    .dataframe tbody tr th:only-of-type {\n",
       "        vertical-align: middle;\n",
       "    }\n",
       "\n",
       "    .dataframe tbody tr th {\n",
       "        vertical-align: top;\n",
       "    }\n",
       "\n",
       "    .dataframe thead th {\n",
       "        text-align: right;\n",
       "    }\n",
       "</style>\n",
       "<table border=\"1\" class=\"dataframe\">\n",
       "  <thead>\n",
       "    <tr style=\"text-align: right;\">\n",
       "      <th></th>\n",
       "      <th>Gender_Female</th>\n",
       "      <th>Gender_Male</th>\n",
       "    </tr>\n",
       "  </thead>\n",
       "  <tbody>\n",
       "    <tr>\n",
       "      <th>0</th>\n",
       "      <td>0</td>\n",
       "      <td>1</td>\n",
       "    </tr>\n",
       "    <tr>\n",
       "      <th>1</th>\n",
       "      <td>0</td>\n",
       "      <td>1</td>\n",
       "    </tr>\n",
       "    <tr>\n",
       "      <th>2</th>\n",
       "      <td>0</td>\n",
       "      <td>1</td>\n",
       "    </tr>\n",
       "    <tr>\n",
       "      <th>3</th>\n",
       "      <td>0</td>\n",
       "      <td>1</td>\n",
       "    </tr>\n",
       "    <tr>\n",
       "      <th>4</th>\n",
       "      <td>0</td>\n",
       "      <td>1</td>\n",
       "    </tr>\n",
       "  </tbody>\n",
       "</table>\n",
       "</div>"
      ],
      "text/plain": [
       "   Gender_Female  Gender_Male\n",
       "0              0            1\n",
       "1              0            1\n",
       "2              0            1\n",
       "3              0            1\n",
       "4              0            1"
      ]
     },
     "execution_count": 101,
     "metadata": {},
     "output_type": "execute_result"
    }
   ],
   "source": [
    "pd.get_dummies(df['Gender'], prefix = 'Gender').head()\n",
    "\n",
    "# get_dummies create as many columns as df"
   ]
  },
  {
   "cell_type": "code",
   "execution_count": 104,
   "metadata": {},
   "outputs": [],
   "source": [
    "# FEATURE TRANSFORMATION"
   ]
  },
  {
   "cell_type": "code",
   "execution_count": 105,
   "metadata": {},
   "outputs": [],
   "source": [
    "# 1) Rescale with fixed factor\n",
    "\n",
    "df['Height (feet)'] = df['Height']/12.0\n",
    "df['Weight (100 lbs)'] = df['Weight']/100.0"
   ]
  },
  {
   "cell_type": "code",
   "execution_count": 107,
   "metadata": {},
   "outputs": [
    {
     "data": {
      "text/html": [
       "<div>\n",
       "<style scoped>\n",
       "    .dataframe tbody tr th:only-of-type {\n",
       "        vertical-align: middle;\n",
       "    }\n",
       "\n",
       "    .dataframe tbody tr th {\n",
       "        vertical-align: top;\n",
       "    }\n",
       "\n",
       "    .dataframe thead th {\n",
       "        text-align: right;\n",
       "    }\n",
       "</style>\n",
       "<table border=\"1\" class=\"dataframe\">\n",
       "  <thead>\n",
       "    <tr style=\"text-align: right;\">\n",
       "      <th></th>\n",
       "      <th>Height</th>\n",
       "      <th>Weight</th>\n",
       "      <th>Height (feet)</th>\n",
       "      <th>Weight (100 lbs)</th>\n",
       "    </tr>\n",
       "  </thead>\n",
       "  <tbody>\n",
       "    <tr>\n",
       "      <th>count</th>\n",
       "      <td>10000.00</td>\n",
       "      <td>10000.00</td>\n",
       "      <td>10000.00</td>\n",
       "      <td>10000.00</td>\n",
       "    </tr>\n",
       "    <tr>\n",
       "      <th>mean</th>\n",
       "      <td>66.37</td>\n",
       "      <td>161.44</td>\n",
       "      <td>5.53</td>\n",
       "      <td>1.61</td>\n",
       "    </tr>\n",
       "    <tr>\n",
       "      <th>std</th>\n",
       "      <td>3.85</td>\n",
       "      <td>32.11</td>\n",
       "      <td>0.32</td>\n",
       "      <td>0.32</td>\n",
       "    </tr>\n",
       "    <tr>\n",
       "      <th>min</th>\n",
       "      <td>54.26</td>\n",
       "      <td>64.70</td>\n",
       "      <td>4.52</td>\n",
       "      <td>0.65</td>\n",
       "    </tr>\n",
       "    <tr>\n",
       "      <th>25%</th>\n",
       "      <td>63.51</td>\n",
       "      <td>135.82</td>\n",
       "      <td>5.29</td>\n",
       "      <td>1.36</td>\n",
       "    </tr>\n",
       "    <tr>\n",
       "      <th>50%</th>\n",
       "      <td>66.32</td>\n",
       "      <td>161.21</td>\n",
       "      <td>5.53</td>\n",
       "      <td>1.61</td>\n",
       "    </tr>\n",
       "    <tr>\n",
       "      <th>75%</th>\n",
       "      <td>69.17</td>\n",
       "      <td>187.17</td>\n",
       "      <td>5.76</td>\n",
       "      <td>1.87</td>\n",
       "    </tr>\n",
       "    <tr>\n",
       "      <th>max</th>\n",
       "      <td>79.00</td>\n",
       "      <td>269.99</td>\n",
       "      <td>6.58</td>\n",
       "      <td>2.70</td>\n",
       "    </tr>\n",
       "  </tbody>\n",
       "</table>\n",
       "</div>"
      ],
      "text/plain": [
       "         Height    Weight  Height (feet)  Weight (100 lbs)\n",
       "count  10000.00  10000.00       10000.00          10000.00\n",
       "mean      66.37    161.44           5.53              1.61\n",
       "std        3.85     32.11           0.32              0.32\n",
       "min       54.26     64.70           4.52              0.65\n",
       "25%       63.51    135.82           5.29              1.36\n",
       "50%       66.32    161.21           5.53              1.61\n",
       "75%       69.17    187.17           5.76              1.87\n",
       "max       79.00    269.99           6.58              2.70"
      ]
     },
     "execution_count": 107,
     "metadata": {},
     "output_type": "execute_result"
    }
   ],
   "source": [
    "df.describe().round(2)"
   ]
  },
  {
   "cell_type": "code",
   "execution_count": 108,
   "metadata": {},
   "outputs": [
    {
     "data": {
      "text/html": [
       "<div>\n",
       "<style scoped>\n",
       "    .dataframe tbody tr th:only-of-type {\n",
       "        vertical-align: middle;\n",
       "    }\n",
       "\n",
       "    .dataframe tbody tr th {\n",
       "        vertical-align: top;\n",
       "    }\n",
       "\n",
       "    .dataframe thead th {\n",
       "        text-align: right;\n",
       "    }\n",
       "</style>\n",
       "<table border=\"1\" class=\"dataframe\">\n",
       "  <thead>\n",
       "    <tr style=\"text-align: right;\">\n",
       "      <th></th>\n",
       "      <th>Height</th>\n",
       "      <th>Weight</th>\n",
       "      <th>Height (feet)</th>\n",
       "      <th>Weight (100 lbs)</th>\n",
       "      <th>Weight_mms</th>\n",
       "      <th>Height_mms</th>\n",
       "    </tr>\n",
       "  </thead>\n",
       "  <tbody>\n",
       "    <tr>\n",
       "      <th>count</th>\n",
       "      <td>10000.00</td>\n",
       "      <td>10000.00</td>\n",
       "      <td>10000.00</td>\n",
       "      <td>10000.00</td>\n",
       "      <td>10000.00</td>\n",
       "      <td>10000.00</td>\n",
       "    </tr>\n",
       "    <tr>\n",
       "      <th>mean</th>\n",
       "      <td>66.37</td>\n",
       "      <td>161.44</td>\n",
       "      <td>5.53</td>\n",
       "      <td>1.61</td>\n",
       "      <td>0.47</td>\n",
       "      <td>0.49</td>\n",
       "    </tr>\n",
       "    <tr>\n",
       "      <th>std</th>\n",
       "      <td>3.85</td>\n",
       "      <td>32.11</td>\n",
       "      <td>0.32</td>\n",
       "      <td>0.32</td>\n",
       "      <td>0.16</td>\n",
       "      <td>0.16</td>\n",
       "    </tr>\n",
       "    <tr>\n",
       "      <th>min</th>\n",
       "      <td>54.26</td>\n",
       "      <td>64.70</td>\n",
       "      <td>4.52</td>\n",
       "      <td>0.65</td>\n",
       "      <td>0.00</td>\n",
       "      <td>0.00</td>\n",
       "    </tr>\n",
       "    <tr>\n",
       "      <th>25%</th>\n",
       "      <td>63.51</td>\n",
       "      <td>135.82</td>\n",
       "      <td>5.29</td>\n",
       "      <td>1.36</td>\n",
       "      <td>0.35</td>\n",
       "      <td>0.37</td>\n",
       "    </tr>\n",
       "    <tr>\n",
       "      <th>50%</th>\n",
       "      <td>66.32</td>\n",
       "      <td>161.21</td>\n",
       "      <td>5.53</td>\n",
       "      <td>1.61</td>\n",
       "      <td>0.47</td>\n",
       "      <td>0.49</td>\n",
       "    </tr>\n",
       "    <tr>\n",
       "      <th>75%</th>\n",
       "      <td>69.17</td>\n",
       "      <td>187.17</td>\n",
       "      <td>5.76</td>\n",
       "      <td>1.87</td>\n",
       "      <td>0.60</td>\n",
       "      <td>0.60</td>\n",
       "    </tr>\n",
       "    <tr>\n",
       "      <th>max</th>\n",
       "      <td>79.00</td>\n",
       "      <td>269.99</td>\n",
       "      <td>6.58</td>\n",
       "      <td>2.70</td>\n",
       "      <td>1.00</td>\n",
       "      <td>1.00</td>\n",
       "    </tr>\n",
       "  </tbody>\n",
       "</table>\n",
       "</div>"
      ],
      "text/plain": [
       "         Height    Weight  Height (feet)  Weight (100 lbs)  Weight_mms  \\\n",
       "count  10000.00  10000.00       10000.00          10000.00    10000.00   \n",
       "mean      66.37    161.44           5.53              1.61        0.47   \n",
       "std        3.85     32.11           0.32              0.32        0.16   \n",
       "min       54.26     64.70           4.52              0.65        0.00   \n",
       "25%       63.51    135.82           5.29              1.36        0.35   \n",
       "50%       66.32    161.21           5.53              1.61        0.47   \n",
       "75%       69.17    187.17           5.76              1.87        0.60   \n",
       "max       79.00    269.99           6.58              2.70        1.00   \n",
       "\n",
       "       Height_mms  \n",
       "count    10000.00  \n",
       "mean         0.49  \n",
       "std          0.16  \n",
       "min          0.00  \n",
       "25%          0.37  \n",
       "50%          0.49  \n",
       "75%          0.60  \n",
       "max          1.00  "
      ]
     },
     "execution_count": 108,
     "metadata": {},
     "output_type": "execute_result"
    }
   ],
   "source": [
    "# MaxMin Normalization\n",
    "# implementing minimum and maximum value scaler\n",
    "\n",
    "from sklearn.preprocessing import MinMaxScaler\n",
    "\n",
    "mms = MinMaxScaler()\n",
    "df['Weight_mms'] = mms.fit_transform(df[['Weight']])\n",
    "df['Height_mms'] = mms.fit_transform(df[['Height']])\n",
    "df.describe().round(2)"
   ]
  },
  {
   "cell_type": "code",
   "execution_count": 110,
   "metadata": {},
   "outputs": [
    {
     "data": {
      "text/html": [
       "<div>\n",
       "<style scoped>\n",
       "    .dataframe tbody tr th:only-of-type {\n",
       "        vertical-align: middle;\n",
       "    }\n",
       "\n",
       "    .dataframe tbody tr th {\n",
       "        vertical-align: top;\n",
       "    }\n",
       "\n",
       "    .dataframe thead th {\n",
       "        text-align: right;\n",
       "    }\n",
       "</style>\n",
       "<table border=\"1\" class=\"dataframe\">\n",
       "  <thead>\n",
       "    <tr style=\"text-align: right;\">\n",
       "      <th></th>\n",
       "      <th>Height</th>\n",
       "      <th>Weight</th>\n",
       "      <th>Height (feet)</th>\n",
       "      <th>Weight (100 lbs)</th>\n",
       "      <th>Weight_mms</th>\n",
       "      <th>Height_mms</th>\n",
       "      <th>Weight_ss</th>\n",
       "      <th>Height_ss</th>\n",
       "    </tr>\n",
       "  </thead>\n",
       "  <tbody>\n",
       "    <tr>\n",
       "      <th>count</th>\n",
       "      <td>10000.00</td>\n",
       "      <td>10000.00</td>\n",
       "      <td>10000.00</td>\n",
       "      <td>10000.00</td>\n",
       "      <td>10000.00</td>\n",
       "      <td>10000.00</td>\n",
       "      <td>10000.00</td>\n",
       "      <td>10000.00</td>\n",
       "    </tr>\n",
       "    <tr>\n",
       "      <th>mean</th>\n",
       "      <td>66.37</td>\n",
       "      <td>161.44</td>\n",
       "      <td>5.53</td>\n",
       "      <td>1.61</td>\n",
       "      <td>0.47</td>\n",
       "      <td>0.49</td>\n",
       "      <td>0.00</td>\n",
       "      <td>0.00</td>\n",
       "    </tr>\n",
       "    <tr>\n",
       "      <th>std</th>\n",
       "      <td>3.85</td>\n",
       "      <td>32.11</td>\n",
       "      <td>0.32</td>\n",
       "      <td>0.32</td>\n",
       "      <td>0.16</td>\n",
       "      <td>0.16</td>\n",
       "      <td>1.00</td>\n",
       "      <td>1.00</td>\n",
       "    </tr>\n",
       "    <tr>\n",
       "      <th>min</th>\n",
       "      <td>54.26</td>\n",
       "      <td>64.70</td>\n",
       "      <td>4.52</td>\n",
       "      <td>0.65</td>\n",
       "      <td>0.00</td>\n",
       "      <td>0.00</td>\n",
       "      <td>-3.01</td>\n",
       "      <td>-3.15</td>\n",
       "    </tr>\n",
       "    <tr>\n",
       "      <th>25%</th>\n",
       "      <td>63.51</td>\n",
       "      <td>135.82</td>\n",
       "      <td>5.29</td>\n",
       "      <td>1.36</td>\n",
       "      <td>0.35</td>\n",
       "      <td>0.37</td>\n",
       "      <td>-0.80</td>\n",
       "      <td>-0.74</td>\n",
       "    </tr>\n",
       "    <tr>\n",
       "      <th>50%</th>\n",
       "      <td>66.32</td>\n",
       "      <td>161.21</td>\n",
       "      <td>5.53</td>\n",
       "      <td>1.61</td>\n",
       "      <td>0.47</td>\n",
       "      <td>0.49</td>\n",
       "      <td>-0.01</td>\n",
       "      <td>-0.01</td>\n",
       "    </tr>\n",
       "    <tr>\n",
       "      <th>75%</th>\n",
       "      <td>69.17</td>\n",
       "      <td>187.17</td>\n",
       "      <td>5.76</td>\n",
       "      <td>1.87</td>\n",
       "      <td>0.60</td>\n",
       "      <td>0.60</td>\n",
       "      <td>0.80</td>\n",
       "      <td>0.73</td>\n",
       "    </tr>\n",
       "    <tr>\n",
       "      <th>max</th>\n",
       "      <td>79.00</td>\n",
       "      <td>269.99</td>\n",
       "      <td>6.58</td>\n",
       "      <td>2.70</td>\n",
       "      <td>1.00</td>\n",
       "      <td>1.00</td>\n",
       "      <td>3.38</td>\n",
       "      <td>3.28</td>\n",
       "    </tr>\n",
       "  </tbody>\n",
       "</table>\n",
       "</div>"
      ],
      "text/plain": [
       "         Height    Weight  Height (feet)  Weight (100 lbs)  Weight_mms  \\\n",
       "count  10000.00  10000.00       10000.00          10000.00    10000.00   \n",
       "mean      66.37    161.44           5.53              1.61        0.47   \n",
       "std        3.85     32.11           0.32              0.32        0.16   \n",
       "min       54.26     64.70           4.52              0.65        0.00   \n",
       "25%       63.51    135.82           5.29              1.36        0.35   \n",
       "50%       66.32    161.21           5.53              1.61        0.47   \n",
       "75%       69.17    187.17           5.76              1.87        0.60   \n",
       "max       79.00    269.99           6.58              2.70        1.00   \n",
       "\n",
       "       Height_mms  Weight_ss  Height_ss  \n",
       "count    10000.00   10000.00   10000.00  \n",
       "mean         0.49       0.00       0.00  \n",
       "std          0.16       1.00       1.00  \n",
       "min          0.00      -3.01      -3.15  \n",
       "25%          0.37      -0.80      -0.74  \n",
       "50%          0.49      -0.01      -0.01  \n",
       "75%          0.60       0.80       0.73  \n",
       "max          1.00       3.38       3.28  "
      ]
     },
     "execution_count": 110,
     "metadata": {},
     "output_type": "execute_result"
    }
   ],
   "source": [
    "# 3) Standard normalization\n",
    "\n",
    "from sklearn.preprocessing import StandardScaler\n",
    "\n",
    "ss = StandardScaler()\n",
    "df['Weight_ss'] = ss.fit_transform(df[['Weight']])\n",
    "df['Height_ss'] = ss.fit_transform(df[['Height']])\n",
    "df.describe().round(2)"
   ]
  },
  {
   "cell_type": "code",
   "execution_count": 111,
   "metadata": {},
   "outputs": [
    {
     "data": {
      "image/png": "[encoded data removed]",
      "text/plain": [
       "<matplotlib.figure.Figure at 0x1ea10ffe550>"
      ]
     },
     "metadata": {},
     "output_type": "display_data"
    }
   ],
   "source": [
    "# plotting histogram of features ...they all look the same just their scales are diffrent\n",
    "\n",
    "plt.figure(figsize=(15, 5))\n",
    "\n",
    "for i, feature in enumerate(['Height', 'Height (feet)', 'Height_mms', 'Height_ss']):\n",
    "    plt.subplot(1, 4, i+1)\n",
    "    df[feature].plot(kind='hist', title=feature)\n",
    "    plt.xlabel(feature)"
   ]
  },
  {
   "cell_type": "code",
   "execution_count": null,
   "metadata": {},
   "outputs": [],
   "source": []
  }
 ],
 "metadata": {
  "kernelspec": {
   "display_name": "Python 3",
   "language": "python",
   "name": "python3"
  },
  "language_info": {
   "codemirror_mode": {
    "name": "ipython",
    "version": 3
   },
   "file_extension": ".py",
   "mimetype": "text/x-python",
   "name": "python",
   "nbconvert_exporter": "python",
   "pygments_lexer": "ipython3",
   "version": "3.6.2"
  }
 },
 "nbformat": 4,
 "nbformat_minor": 2
}
