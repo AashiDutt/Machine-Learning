{
 "cells": [
  {
   "cell_type": "markdown",
   "metadata": {},
   "source": [
    "# Linear Regression using R-Squared Error and Gradient Descent"
   ]
  },
  {
   "cell_type": "code",
   "execution_count": 1,
   "metadata": {},
   "outputs": [],
   "source": [
    "# importing dependencies\n",
    "from statistics import mean\n",
    "import pandas as pd   #to load data and modify it\n",
    "import numpy as np    # for numerical calculations\n",
    "import matplotlib.pyplot as plt\n",
    "%matplotlib inline"
   ]
  },
  {
   "cell_type": "markdown",
   "metadata": {},
   "source": [
    " # Fit a line to Input Data\n",
    "Also, we studied that to find out the \"Best Fit Line\" we require the values of m and b. So, to find the best fit line, we used the formula:\n",
    "\n",
    "Slope(m) = (mean(x)mean(y) - mean(xy)) / (mean(x)^2 - mean(x^2))\n",
    "Bias(b) = mean(y) - m*mean(x)\n",
    "and then put these values in the equation of a straight line to get the new values for y"
   ]
  },
  {
   "cell_type": "code",
   "execution_count": 2,
   "metadata": {},
   "outputs": [],
   "source": [
    "# Equation for a Straight Line:  y = mx + b\n",
    "# Function to predict the Best Fit Slope\n",
    "# Slope(m) = (mean(x)*mean(y) - mean(x*y))/(mean(x)^2 - mean(x^2))\n",
    "# Bias(b) = mean(y) - m*mean(x)\n",
    "\n",
    "def best_fit_slope(X,y):\n",
    "    slope_m = ((mean(X)*mean(y)) - mean(X*y))/(mean(X)**2 - mean(X**2))\n",
    "    bias_b = mean(y) - slope_m*mean(X)\n",
    "    return slope_m, bias_b"
   ]
  },
  {
   "cell_type": "markdown",
   "metadata": {},
   "source": [
    "# Load Dataset"
   ]
  },
  {
   "cell_type": "code",
   "execution_count": 4,
   "metadata": {},
   "outputs": [],
   "source": [
    "# Load the data using Pandas\n",
    "\n",
    "df = pd.read_csv('Insurane_dataset.csv')"
   ]
  },
  {
   "cell_type": "code",
   "execution_count": 5,
   "metadata": {},
   "outputs": [
    {
     "name": "stdout",
     "output_type": "stream",
     "text": [
      "     X      Y\n",
      "0  108  392.5\n",
      "1   19   46.2\n",
      "2   13   15.7\n",
      "3  124  422.2\n",
      "4   40  119.4\n"
     ]
    }
   ],
   "source": [
    "# Let's have a look at the data, what it looks like, how many data points are there in the data.\n",
    "\n",
    "print(df.head())"
   ]
  },
  {
   "cell_type": "markdown",
   "metadata": {},
   "source": [
    "Data is in the form of two columns, X and Y. X is the total number of claims and Y represents the claims in thousands of Swedish Kronor(price)."
   ]
  },
  {
   "cell_type": "code",
   "execution_count": 6,
   "metadata": {},
   "outputs": [
    {
     "data": {
      "text/html": [
       "<div>\n",
       "<style scoped>\n",
       "    .dataframe tbody tr th:only-of-type {\n",
       "        vertical-align: middle;\n",
       "    }\n",
       "\n",
       "    .dataframe tbody tr th {\n",
       "        vertical-align: top;\n",
       "    }\n",
       "\n",
       "    .dataframe thead th {\n",
       "        text-align: right;\n",
       "    }\n",
       "</style>\n",
       "<table border=\"1\" class=\"dataframe\">\n",
       "  <thead>\n",
       "    <tr style=\"text-align: right;\">\n",
       "      <th></th>\n",
       "      <th>X</th>\n",
       "      <th>Y</th>\n",
       "    </tr>\n",
       "  </thead>\n",
       "  <tbody>\n",
       "    <tr>\n",
       "      <th>count</th>\n",
       "      <td>63.000000</td>\n",
       "      <td>63.000000</td>\n",
       "    </tr>\n",
       "    <tr>\n",
       "      <th>mean</th>\n",
       "      <td>22.904762</td>\n",
       "      <td>98.187302</td>\n",
       "    </tr>\n",
       "    <tr>\n",
       "      <th>std</th>\n",
       "      <td>23.351946</td>\n",
       "      <td>87.327553</td>\n",
       "    </tr>\n",
       "    <tr>\n",
       "      <th>min</th>\n",
       "      <td>0.000000</td>\n",
       "      <td>0.000000</td>\n",
       "    </tr>\n",
       "    <tr>\n",
       "      <th>25%</th>\n",
       "      <td>7.500000</td>\n",
       "      <td>38.850000</td>\n",
       "    </tr>\n",
       "    <tr>\n",
       "      <th>50%</th>\n",
       "      <td>14.000000</td>\n",
       "      <td>73.400000</td>\n",
       "    </tr>\n",
       "    <tr>\n",
       "      <th>75%</th>\n",
       "      <td>29.000000</td>\n",
       "      <td>140.000000</td>\n",
       "    </tr>\n",
       "    <tr>\n",
       "      <th>max</th>\n",
       "      <td>124.000000</td>\n",
       "      <td>422.200000</td>\n",
       "    </tr>\n",
       "  </tbody>\n",
       "</table>\n",
       "</div>"
      ],
      "text/plain": [
       "                X           Y\n",
       "count   63.000000   63.000000\n",
       "mean    22.904762   98.187302\n",
       "std     23.351946   87.327553\n",
       "min      0.000000    0.000000\n",
       "25%      7.500000   38.850000\n",
       "50%     14.000000   73.400000\n",
       "75%     29.000000  140.000000\n",
       "max    124.000000  422.200000"
      ]
     },
     "execution_count": 6,
     "metadata": {},
     "output_type": "execute_result"
    }
   ],
   "source": [
    "df.describe()"
   ]
  },
  {
   "cell_type": "markdown",
   "metadata": {},
   "source": [
    "# Scatter Plot of Input Data"
   ]
  },
  {
   "cell_type": "code",
   "execution_count": 9,
   "metadata": {},
   "outputs": [],
   "source": [
    "# Load the data in the form to be input to the function for Best Fit Line\n",
    "\n",
    "X = np.array(df['X'], dtype=np.float64)\n",
    "y = np.array(df['Y'], dtype=np.float64)"
   ]
  },
  {
   "cell_type": "code",
   "execution_count": 29,
   "metadata": {},
   "outputs": [
    {
     "data": {
      "text/plain": [
       "Text(0.5,1,'Input Data Scatter Plot')"
      ]
     },
     "execution_count": 29,
     "metadata": {},
     "output_type": "execute_result"
    },
    {
     "data": {
      "image/png": "[encoded data removed]",
      "text/plain": [
       "<matplotlib.figure.Figure at 0x2724a7c53c8>"
      ]
     },
     "metadata": {},
     "output_type": "display_data"
    }
   ],
   "source": [
    "# Scatter Plot of the Input Data\n",
    "\n",
    "fig,ax = plt.subplots()\n",
    "ax.scatter(X,y)\n",
    "ax.set_xlabel('X')\n",
    "ax.set_ylabel('y')\n",
    "ax.set_title('Input Data Scatter Plot')"
   ]
  },
  {
   "cell_type": "code",
   "execution_count": 10,
   "metadata": {},
   "outputs": [
    {
     "name": "stdout",
     "output_type": "stream",
     "text": [
      "Slope:  3.4138235600663664\n",
      "Bias:  19.99448575911481\n"
     ]
    }
   ],
   "source": [
    "#Now, lets use the function we defined above and find the values for m and b to get the line that best fits the data.\n",
    "\n",
    "m,b = best_fit_slope(X,y)\n",
    "\n",
    "print('Slope: ',m)\n",
    "print('Bias: ',b)"
   ]
  },
  {
   "cell_type": "markdown",
   "metadata": {},
   "source": [
    "Calculate Values of y_hat"
   ]
  },
  {
   "cell_type": "code",
   "execution_count": 11,
   "metadata": {},
   "outputs": [
    {
     "name": "stdout",
     "output_type": "stream",
     "text": [
      "y_hat:  [388.68743025  84.8571334   64.37419204 443.30860721 156.54742816\n",
      " 214.58242868  98.51242764  67.7880156  173.61654596  54.13272136\n",
      "  37.06360356 183.85801664  57.54654492  98.51242764  43.89125068\n",
      "  26.82213288 101.9262512   40.47742712  30.23595644  98.51242764\n",
      "  40.47742712  50.7188978   50.7188978   30.23595644 118.995369\n",
      "  43.89125068  33.64978     88.27095696  43.89125068  33.64978\n",
      "  19.99448576 105.34007476  40.47742712  37.06360356  95.09860408\n",
      "  57.54654492 228.23772292  60.96036848  33.64978     74.61566272\n",
      "  64.37419204 224.82389936 159.96125172 146.30595748 207.75478156\n",
      " 159.96125172  57.54654492 112.16772188  47.30507424  30.23595644\n",
      "  78.02948628  64.37419204  64.37419204  71.20183916  47.30507424\n",
      " 118.995369   122.40919256 101.9262512   50.7188978  125.82301612\n",
      "  67.7880156  200.92713444 108.75389832]\n"
     ]
    }
   ],
   "source": [
    "# Calculate y_hat\n",
    "\n",
    "y_hat = m*X + b\n",
    "\n",
    "print('y_hat: ', y_hat)"
   ]
  },
  {
   "cell_type": "code",
   "execution_count": 12,
   "metadata": {},
   "outputs": [
    {
     "data": {
      "text/plain": [
       "Text(0.5,1,'Line fit to Input Data')"
      ]
     },
     "execution_count": 12,
     "metadata": {},
     "output_type": "execute_result"
    },
    {
     "data": {
      "image/png": "[encoded data removed]",
      "text/plain": [
       "<matplotlib.figure.Figure at 0x1b5615057b8>"
      ]
     },
     "metadata": {},
     "output_type": "display_data"
    }
   ],
   "source": [
    "# Scatter Plot of the Input Data with the line fit on Input Data\n",
    "\n",
    "fig,ax = plt.subplots()\n",
    "ax.scatter(X,y)\n",
    "ax.set_xlabel('X')\n",
    "ax.set_ylabel('y')\n",
    "ax.plot(X,y_hat)\n",
    "ax.set_title('Line fit to Input Data')"
   ]
  },
  {
   "cell_type": "markdown",
   "metadata": {},
   "source": [
    "# Find the Squared Error and R-Squared Error"
   ]
  },
  {
   "cell_type": "markdown",
   "metadata": {},
   "source": [
    "# Squared Error = sum((y_hat - y)^2)"
   ]
  },
  {
   "cell_type": "code",
   "execution_count": 13,
   "metadata": {},
   "outputs": [],
   "source": [
    "def squared_Error(y, y_hat):\n",
    "    return sum((y_hat - y)**2)"
   ]
  },
  {
   "cell_type": "markdown",
   "metadata": {},
   "source": [
    " # R-Squared Error = 1 - ((Squared_Error(y_hat)) / (Squared_Error(mean(y)))"
   ]
  },
  {
   "cell_type": "code",
   "execution_count": 14,
   "metadata": {},
   "outputs": [],
   "source": [
    "def r_squared(y,y_hat):\n",
    "    # Mean of all data points forms the mean line\n",
    "    mean_line = mean(y)\n",
    "    \n",
    "    # Squared Error between Regression Line (y_hat) and the data points\n",
    "    y_hat_Squared_Error = squared_Error(y,y_hat)\n",
    "    \n",
    "    # Squared Error between Mean Line and data points\n",
    "    y_Squared_Error = squared_Error(y,mean_line)\n",
    "    \n",
    "    return 1 - (y_hat_Squared_Error/y_Squared_Error)"
   ]
  },
  {
   "cell_type": "code",
   "execution_count": 15,
   "metadata": {},
   "outputs": [
    {
     "name": "stdout",
     "output_type": "stream",
     "text": [
      "R-Squared Error:  0.8333466719794502\n"
     ]
    }
   ],
   "source": [
    "print('R-Squared Error: ', r_squared(y,y_hat))"
   ]
  },
  {
   "cell_type": "code",
   "execution_count": 16,
   "metadata": {},
   "outputs": [
    {
     "name": "stdout",
     "output_type": "stream",
     "text": [
      "Accuracy% :  0.8333466719794502\n"
     ]
    }
   ],
   "source": [
    "# Accuracy%\n",
    "\n",
    "print('Accuracy% : ', r_squared(y,y_hat))"
   ]
  },
  {
   "cell_type": "code",
   "execution_count": 17,
   "metadata": {},
   "outputs": [
    {
     "name": "stdout",
     "output_type": "stream",
     "text": [
      "y:  310.169488364756\n"
     ]
    }
   ],
   "source": [
    "# Testing the Best Fit Line for Linear Regression\n",
    "\n",
    "new_X = 85\n",
    "new_y = (m*new_X + b)\n",
    "print('y: ',new_y)"
   ]
  },
  {
   "cell_type": "code",
   "execution_count": 18,
   "metadata": {},
   "outputs": [
    {
     "data": {
      "text/plain": [
       "Text(0.5,1,'Testing Line for New Data')"
      ]
     },
     "execution_count": 18,
     "metadata": {},
     "output_type": "execute_result"
    },
    {
     "data": {
      "image/png": "[encoded data removed]",
      "text/plain": [
       "<matplotlib.figure.Figure at 0x1b5617addd8>"
      ]
     },
     "metadata": {},
     "output_type": "display_data"
    }
   ],
   "source": [
    "# Let's now plot this point and check for accuracy\n",
    "# Scatter Plot of the values \"new_X\" and \"new_y\"\n",
    "\n",
    "fig,ax = plt.subplots()\n",
    "ax.scatter(X,y)\n",
    "ax.set_xlabel('X')\n",
    "ax.set_ylabel('y')\n",
    "ax.scatter(new_X,new_y,c='r',s=100)\n",
    "ax.plot(X,y_hat)\n",
    "ax.set_title('Testing Line for New Data')"
   ]
  }
 ],
 "metadata": {
  "kernelspec": {
   "display_name": "Python 3",
   "language": "python",
   "name": "python3"
  },
  "language_info": {
   "codemirror_mode": {
    "name": "ipython",
    "version": 3
   },
   "file_extension": ".py",
   "mimetype": "text/x-python",
   "name": "python",
   "nbconvert_exporter": "python",
   "pygments_lexer": "ipython3",
   "version": "3.6.2"
  }
 },
 "nbformat": 4,
 "nbformat_minor": 2
}
